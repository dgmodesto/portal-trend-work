{
 "cells": [
  {
   "cell_type": "code",
   "execution_count": 2,
   "metadata": {},
   "outputs": [],
   "source": [
    "import pandas as pd\n"
   ]
  },
  {
   "cell_type": "code",
   "execution_count": 11,
   "metadata": {},
   "outputs": [],
   "source": [
    "df_reviews = pd.read_csv(\"datasets/customer reviews.csv\")\n",
    "df_top100_books = pd.read_csv('datasets/Top-100 Trending Books.csv')"
   ]
  },
  {
   "cell_type": "code",
   "execution_count": 14,
   "metadata": {},
   "outputs": [
    {
     "data": {
      "text/plain": [
       "Index(['Rank', 'book title', 'book price', 'rating', 'author',\n",
       "       'year of publication', 'genre', 'url'],\n",
       "      dtype='object')"
      ]
     },
     "execution_count": 14,
     "metadata": {},
     "output_type": "execute_result"
    }
   ],
   "source": [
    "df_top100_books.columns"
   ]
  },
  {
   "cell_type": "code",
   "execution_count": 19,
   "metadata": {},
   "outputs": [
    {
     "data": {
      "text/plain": [
       "Index(['Sno', 'book name', 'review title', 'reviewer', 'reviewer rating',\n",
       "       'review description', 'is_verified', 'date', 'timestamp', 'ASIN'],\n",
       "      dtype='object')"
      ]
     },
     "execution_count": 19,
     "metadata": {},
     "output_type": "execute_result"
    }
   ],
   "source": [
    "df_reviews.columns"
   ]
  },
  {
   "cell_type": "code",
   "execution_count": 20,
   "metadata": {},
   "outputs": [
    {
     "data": {
      "text/html": [
       "<div>\n",
       "<style scoped>\n",
       "    .dataframe tbody tr th:only-of-type {\n",
       "        vertical-align: middle;\n",
       "    }\n",
       "\n",
       "    .dataframe tbody tr th {\n",
       "        vertical-align: top;\n",
       "    }\n",
       "\n",
       "    .dataframe thead th {\n",
       "        text-align: right;\n",
       "    }\n",
       "</style>\n",
       "<table border=\"1\" class=\"dataframe\">\n",
       "  <thead>\n",
       "    <tr style=\"text-align: right;\">\n",
       "      <th></th>\n",
       "      <th>Rank</th>\n",
       "      <th>book title</th>\n",
       "      <th>book price</th>\n",
       "      <th>rating</th>\n",
       "      <th>author</th>\n",
       "      <th>year of publication</th>\n",
       "      <th>genre</th>\n",
       "      <th>url</th>\n",
       "    </tr>\n",
       "  </thead>\n",
       "  <tbody>\n",
       "    <tr>\n",
       "      <th>0</th>\n",
       "      <td>1</td>\n",
       "      <td>Iron Flame (The Empyrean, 2)</td>\n",
       "      <td>18.42</td>\n",
       "      <td>4.1</td>\n",
       "      <td>Rebecca Yarros</td>\n",
       "      <td>2023</td>\n",
       "      <td>Fantasy Romance</td>\n",
       "      <td>amazon.com/Iron-Flame-Empyrean-Rebecca-Yarros/...</td>\n",
       "    </tr>\n",
       "    <tr>\n",
       "      <th>1</th>\n",
       "      <td>2</td>\n",
       "      <td>The Woman in Me</td>\n",
       "      <td>20.93</td>\n",
       "      <td>4.5</td>\n",
       "      <td>Britney Spears</td>\n",
       "      <td>2023</td>\n",
       "      <td>Memoir</td>\n",
       "      <td>amazon.com/Woman-Me-Britney-Spears/dp/16680090...</td>\n",
       "    </tr>\n",
       "    <tr>\n",
       "      <th>2</th>\n",
       "      <td>3</td>\n",
       "      <td>My Name Is Barbra</td>\n",
       "      <td>31.50</td>\n",
       "      <td>4.5</td>\n",
       "      <td>Barbra Streisand</td>\n",
       "      <td>2023</td>\n",
       "      <td>Autobiography</td>\n",
       "      <td>amazon.com/My-Name-Barbra-Streisand/dp/0525429...</td>\n",
       "    </tr>\n",
       "    <tr>\n",
       "      <th>3</th>\n",
       "      <td>4</td>\n",
       "      <td>Friends, Lovers, and the Big Terrible Thing: A...</td>\n",
       "      <td>23.99</td>\n",
       "      <td>4.4</td>\n",
       "      <td>Matthew Perry</td>\n",
       "      <td>2023</td>\n",
       "      <td>Memoir</td>\n",
       "      <td>amazon.com/Friends-Lovers-Big-Terrible-Thing/d...</td>\n",
       "    </tr>\n",
       "    <tr>\n",
       "      <th>4</th>\n",
       "      <td>5</td>\n",
       "      <td>How to Catch a Turkey</td>\n",
       "      <td>5.65</td>\n",
       "      <td>4.8</td>\n",
       "      <td>Adam Wallace</td>\n",
       "      <td>2018</td>\n",
       "      <td>Childrens, Fiction</td>\n",
       "      <td>amazon.com/How-Catch-Turkey-Adam-Wallace/dp/14...</td>\n",
       "    </tr>\n",
       "    <tr>\n",
       "      <th>...</th>\n",
       "      <td>...</td>\n",
       "      <td>...</td>\n",
       "      <td>...</td>\n",
       "      <td>...</td>\n",
       "      <td>...</td>\n",
       "      <td>...</td>\n",
       "      <td>...</td>\n",
       "      <td>...</td>\n",
       "    </tr>\n",
       "    <tr>\n",
       "      <th>95</th>\n",
       "      <td>96</td>\n",
       "      <td>First Little Readers Parent Pack: Guided Readi...</td>\n",
       "      <td>11.40</td>\n",
       "      <td>4.7</td>\n",
       "      <td>Deborah Schecter</td>\n",
       "      <td>2010</td>\n",
       "      <td>Nonfiction</td>\n",
       "      <td>amazon.com/First-Little-Readers-Parent-Pack/dp...</td>\n",
       "    </tr>\n",
       "    <tr>\n",
       "      <th>96</th>\n",
       "      <td>97</td>\n",
       "      <td>Hatchet</td>\n",
       "      <td>5.14</td>\n",
       "      <td>4.7</td>\n",
       "      <td>Gary Paulsen</td>\n",
       "      <td>1987</td>\n",
       "      <td>young adult novel, adventure novel, survival ...</td>\n",
       "      <td>amazon.com/Hatchet-Gary-Paulsen/dp/1416936475/...</td>\n",
       "    </tr>\n",
       "    <tr>\n",
       "      <th>97</th>\n",
       "      <td>98</td>\n",
       "      <td>The Wager: A Tale of Shipwreck, Mutiny and Murder</td>\n",
       "      <td>15.30</td>\n",
       "      <td>4.5</td>\n",
       "      <td>David Grann</td>\n",
       "      <td>2023</td>\n",
       "      <td>Nonfiction</td>\n",
       "      <td>amazon.com/Wager-Tale-Shipwreck-Mutiny-Murder/...</td>\n",
       "    </tr>\n",
       "    <tr>\n",
       "      <th>98</th>\n",
       "      <td>99</td>\n",
       "      <td>I'm Dead, Now What?: Important Information Abo...</td>\n",
       "      <td>12.99</td>\n",
       "      <td>4.6</td>\n",
       "      <td>Peter Pauper Press</td>\n",
       "      <td>2015</td>\n",
       "      <td>Nonfiction</td>\n",
       "      <td>amazon.com/Important-Information-Belongings-Bu...</td>\n",
       "    </tr>\n",
       "    <tr>\n",
       "      <th>99</th>\n",
       "      <td>100</td>\n",
       "      <td>The Wonky Donkey</td>\n",
       "      <td>5.28</td>\n",
       "      <td>4.8</td>\n",
       "      <td>Craig Smith</td>\n",
       "      <td>2009</td>\n",
       "      <td>Childrens, Picture Books</td>\n",
       "      <td>amazon.com/Wonky-Donkey-Craig-Smith/dp/0545261...</td>\n",
       "    </tr>\n",
       "  </tbody>\n",
       "</table>\n",
       "<p>100 rows × 8 columns</p>\n",
       "</div>"
      ],
      "text/plain": [
       "    Rank                                         book title  book price  \\\n",
       "0      1                       Iron Flame (The Empyrean, 2)       18.42   \n",
       "1      2                                    The Woman in Me       20.93   \n",
       "2      3                                  My Name Is Barbra       31.50   \n",
       "3      4  Friends, Lovers, and the Big Terrible Thing: A...       23.99   \n",
       "4      5                              How to Catch a Turkey        5.65   \n",
       "..   ...                                                ...         ...   \n",
       "95    96  First Little Readers Parent Pack: Guided Readi...       11.40   \n",
       "96    97                                            Hatchet        5.14   \n",
       "97    98  The Wager: A Tale of Shipwreck, Mutiny and Murder       15.30   \n",
       "98    99  I'm Dead, Now What?: Important Information Abo...       12.99   \n",
       "99   100                                   The Wonky Donkey        5.28   \n",
       "\n",
       "    rating              author  year of publication  \\\n",
       "0      4.1      Rebecca Yarros                 2023   \n",
       "1      4.5      Britney Spears                 2023   \n",
       "2      4.5    Barbra Streisand                 2023   \n",
       "3      4.4       Matthew Perry                 2023   \n",
       "4      4.8        Adam Wallace                 2018   \n",
       "..     ...                 ...                  ...   \n",
       "95     4.7    Deborah Schecter                 2010   \n",
       "96     4.7        Gary Paulsen                 1987   \n",
       "97     4.5         David Grann                 2023   \n",
       "98     4.6  Peter Pauper Press                 2015   \n",
       "99     4.8         Craig Smith                 2009   \n",
       "\n",
       "                                                genre  \\\n",
       "0                                     Fantasy Romance   \n",
       "1                                              Memoir   \n",
       "2                                       Autobiography   \n",
       "3                                              Memoir   \n",
       "4                                  Childrens, Fiction   \n",
       "..                                                ...   \n",
       "95                                         Nonfiction   \n",
       "96   young adult novel, adventure novel, survival ...   \n",
       "97                                         Nonfiction   \n",
       "98                                         Nonfiction   \n",
       "99                           Childrens, Picture Books   \n",
       "\n",
       "                                                  url  \n",
       "0   amazon.com/Iron-Flame-Empyrean-Rebecca-Yarros/...  \n",
       "1   amazon.com/Woman-Me-Britney-Spears/dp/16680090...  \n",
       "2   amazon.com/My-Name-Barbra-Streisand/dp/0525429...  \n",
       "3   amazon.com/Friends-Lovers-Big-Terrible-Thing/d...  \n",
       "4   amazon.com/How-Catch-Turkey-Adam-Wallace/dp/14...  \n",
       "..                                                ...  \n",
       "95  amazon.com/First-Little-Readers-Parent-Pack/dp...  \n",
       "96  amazon.com/Hatchet-Gary-Paulsen/dp/1416936475/...  \n",
       "97  amazon.com/Wager-Tale-Shipwreck-Mutiny-Murder/...  \n",
       "98  amazon.com/Important-Information-Belongings-Bu...  \n",
       "99  amazon.com/Wonky-Donkey-Craig-Smith/dp/0545261...  \n",
       "\n",
       "[100 rows x 8 columns]"
      ]
     },
     "execution_count": 20,
     "metadata": {},
     "output_type": "execute_result"
    }
   ],
   "source": [
    "df_top100_books[df_top100_books['book price'] < 50]"
   ]
  },
  {
   "cell_type": "code",
   "execution_count": 21,
   "metadata": {},
   "outputs": [
    {
     "data": {
      "text/plain": [
       "48.77"
      ]
     },
     "execution_count": 21,
     "metadata": {},
     "output_type": "execute_result"
    }
   ],
   "source": [
    "\n",
    "price_max = df_top100_books['book price'].max()\n",
    "price_max"
   ]
  },
  {
   "cell_type": "code",
   "execution_count": 22,
   "metadata": {},
   "outputs": [
    {
     "data": {
      "text/plain": [
       "year of publication\n",
       "2023    28\n",
       "2022     8\n",
       "2018     8\n",
       "2021     6\n",
       "2017     5\n",
       "2020     5\n",
       "2016     5\n",
       "2015     5\n",
       "2014     4\n",
       "2019     3\n",
       "1967     2\n",
       "1997     2\n",
       "2011     2\n",
       "2009     2\n",
       "1980     1\n",
       "2010     1\n",
       "1982     1\n",
       "1999     1\n",
       "2005     1\n",
       "2008     1\n",
       "2024     1\n",
       "1994     1\n",
       "2013     1\n",
       "1960     1\n",
       "1989     1\n",
       "1947     1\n",
       "1998     1\n",
       "1969     1\n",
       "1987     1\n",
       "Name: count, dtype: int64"
      ]
     },
     "execution_count": 22,
     "metadata": {},
     "output_type": "execute_result"
    }
   ],
   "source": [
    "df_top100_books['year of publication'].value_counts()"
   ]
  },
  {
   "cell_type": "code",
   "execution_count": null,
   "metadata": {},
   "outputs": [],
   "source": []
  }
 ],
 "metadata": {
  "kernelspec": {
   "display_name": "Python 3",
   "language": "python",
   "name": "python3"
  },
  "language_info": {
   "codemirror_mode": {
    "name": "ipython",
    "version": 3
   },
   "file_extension": ".py",
   "mimetype": "text/x-python",
   "name": "python",
   "nbconvert_exporter": "python",
   "pygments_lexer": "ipython3",
   "version": "3.12.2"
  }
 },
 "nbformat": 4,
 "nbformat_minor": 2
}
